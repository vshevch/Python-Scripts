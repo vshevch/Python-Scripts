{
 "cells": [
  {
   "cell_type": "code",
   "execution_count": 1,
   "metadata": {},
   "outputs": [],
   "source": [
    "from start import *\n",
    "import glob\n",
    "import re\n",
    "\n",
    "frame = pd.DataFrame()\n",
    "list_ = []\n",
    "path =r'C:\\Users\\Vlad\\Desktop\\SENT FILES' # use your path\n",
    "\n",
    "allFiles = glob.glob(path + \"/*.csv\")\n",
    "for file_ in allFiles:\n",
    "    df = pd.read_csv(file_,index_col=None, header=0)\n",
    "    df['File']=file_\n",
    "    list_.append(df)\n",
    "frame = pd.concat(list_)"
   ]
  },
  {
   "cell_type": "code",
   "execution_count": 2,
   "metadata": {
    "collapsed": true
   },
   "outputs": [],
   "source": [
    "pd.set_option('display.max_colwidth', -1)"
   ]
  },
  {
   "cell_type": "code",
   "execution_count": 3,
   "metadata": {
    "collapsed": true
   },
   "outputs": [],
   "source": [
    "def find (CRN,COL=False,DF=frame):\n",
    "    if COL==False:\n",
    "        return DF[DF['CRN']==CRN]\n",
    "    elif COL==True:\n",
    "        return DF[DF['CRN']==CRN]['File']\n",
    "    else:\n",
    "        return DF[DF['CRN']==CRN][COL]"
   ]
  },
  {
   "cell_type": "code",
   "execution_count": 4,
   "metadata": {},
   "outputs": [],
   "source": [
    "AWB_list = [771995862397]"
   ]
  },
  {
   "cell_type": "code",
   "execution_count": 5,
   "metadata": {},
   "outputs": [
    {
     "name": "stdout",
     "output_type": "stream",
     "text": [
      "771995862397 - PWC_18Apr18_1130.csv\n"
     ]
    }
   ],
   "source": [
    "for AWB in AWB_list:\n",
    "    result = re.search('PWC_\\d{2}\\D{3}\\d{2}_\\d{4}.csv', str(find(AWB,True)))\n",
    "    if result is not None:\n",
    "        file_name = result.group(0)\n",
    "    else:\n",
    "        file_name = \" \"\n",
    "    print(str(AWB) + \" - \" + file_name)"
   ]
  },
  {
   "cell_type": "code",
   "execution_count": null,
   "metadata": {
    "collapsed": true
   },
   "outputs": [],
   "source": [
    "##Other way of doing it\n",
    "\n",
    "#find(772830232736,True)"
   ]
  }
 ],
 "metadata": {
  "kernelspec": {
   "display_name": "Python 3",
   "language": "python",
   "name": "python3"
  },
  "language_info": {
   "codemirror_mode": {
    "name": "ipython",
    "version": 3
   },
   "file_extension": ".py",
   "mimetype": "text/x-python",
   "name": "python",
   "nbconvert_exporter": "python",
   "pygments_lexer": "ipython3",
   "version": "3.6.2"
  }
 },
 "nbformat": 4,
 "nbformat_minor": 2
}
