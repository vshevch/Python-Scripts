{
 "cells": [
  {
   "cell_type": "code",
   "execution_count": 49,
   "metadata": {},
   "outputs": [],
   "source": [
    "from geopy.geocoders import Photon\n",
    "import pandas as pd"
   ]
  },
  {
   "cell_type": "code",
   "execution_count": 56,
   "metadata": {},
   "outputs": [],
   "source": [
    "#nom=Nominatim(user_agent=\"station-app\")\n",
    "#nom=Yandex(lang=\"en_US\",timeout=3)\n",
    "nom=Photon(timeout=3)"
   ]
  },
  {
   "cell_type": "code",
   "execution_count": 53,
   "metadata": {},
   "outputs": [],
   "source": [
    "nom.geocode(\"12005 Raymonde-De-La-Roche, Mirabel, Quebec, Canada\")"
   ]
  },
  {
   "cell_type": "code",
   "execution_count": 12,
   "metadata": {},
   "outputs": [],
   "source": [
    "df = pd.read_excel(\"List of stations.xlsx\", sheetname='Stations + Ramps')"
   ]
  },
  {
   "cell_type": "code",
   "execution_count": 59,
   "metadata": {
    "scrolled": true
   },
   "outputs": [
    {
     "data": {
      "text/html": [
       "<div>\n",
       "<style>\n",
       "    .dataframe thead tr:only-child th {\n",
       "        text-align: right;\n",
       "    }\n",
       "\n",
       "    .dataframe thead th {\n",
       "        text-align: left;\n",
       "    }\n",
       "\n",
       "    .dataframe tbody tr th {\n",
       "        vertical-align: top;\n",
       "    }\n",
       "</style>\n",
       "<table border=\"1\" class=\"dataframe\">\n",
       "  <thead>\n",
       "    <tr style=\"text-align: right;\">\n",
       "      <th></th>\n",
       "      <th>Reg\\Dist</th>\n",
       "      <th>LocNum</th>\n",
       "      <th>Region</th>\n",
       "      <th>District</th>\n",
       "      <th>Market</th>\n",
       "      <th>Alpha</th>\n",
       "      <th>Facility</th>\n",
       "      <th>Address</th>\n",
       "      <th>City</th>\n",
       "      <th>State</th>\n",
       "      <th>Zip</th>\n",
       "      <th>Country</th>\n",
       "      <th>Management</th>\n",
       "      <th>EmpID</th>\n",
       "      <th>Telephone</th>\n",
       "      <th>Geocoder</th>\n",
       "      <th>Coordinates</th>\n",
       "      <th>Geocoder_Photon</th>\n",
       "      <th>Coordinates_Photon</th>\n",
       "    </tr>\n",
       "  </thead>\n",
       "  <tbody>\n",
       "    <tr>\n",
       "      <th>0</th>\n",
       "      <td>11\\01</td>\n",
       "      <td>580</td>\n",
       "      <td>Canada</td>\n",
       "      <td>Eastern Canada</td>\n",
       "      <td>NaN</td>\n",
       "      <td>YMXA</td>\n",
       "      <td>Station</td>\n",
       "      <td>12005 Raymonde-De-La-Roche</td>\n",
       "      <td>Mirabel</td>\n",
       "      <td>PQ</td>\n",
       "      <td>J7N1H2</td>\n",
       "      <td>CA</td>\n",
       "      <td>Melanie McArthur</td>\n",
       "      <td>435890.0</td>\n",
       "      <td>514/798-5994</td>\n",
       "      <td>12005 Raymonde-De-La-Roche, Mirabel, PQ, J7N1H...</td>\n",
       "      <td>(Mirabel, Quebec, Canada, (45.680658, -74.0245...</td>\n",
       "      <td>12005 Raymonde-De-La-Roche, Mirabel, PQ, J7N1H...</td>\n",
       "      <td>None</td>\n",
       "    </tr>\n",
       "    <tr>\n",
       "      <th>1</th>\n",
       "      <td>11\\01</td>\n",
       "      <td>823</td>\n",
       "      <td>Canada</td>\n",
       "      <td>Eastern Canada</td>\n",
       "      <td>NaN</td>\n",
       "      <td>YOWA</td>\n",
       "      <td>Station</td>\n",
       "      <td>130 Thad Johnson Road</td>\n",
       "      <td>Ottawa</td>\n",
       "      <td>ON</td>\n",
       "      <td>K1V0X1</td>\n",
       "      <td>CA</td>\n",
       "      <td>Greg Carter</td>\n",
       "      <td>156852.0</td>\n",
       "      <td>613/690-1300</td>\n",
       "      <td>130 Thad Johnson Road, Ottawa, ON, K1V0X1, Canada</td>\n",
       "      <td>(Ottawa, Canada, (45.401795, -75.699583))</td>\n",
       "      <td>130 Thad Johnson Road, Ottawa, ON, K1V0X1, Canada</td>\n",
       "      <td>None</td>\n",
       "    </tr>\n",
       "    <tr>\n",
       "      <th>2</th>\n",
       "      <td>11\\01</td>\n",
       "      <td>3988</td>\n",
       "      <td>Canada</td>\n",
       "      <td>Eastern Canada</td>\n",
       "      <td>NaN</td>\n",
       "      <td>YUXA</td>\n",
       "      <td>Station</td>\n",
       "      <td>8481 Place Marien</td>\n",
       "      <td>Montreal</td>\n",
       "      <td>PQ</td>\n",
       "      <td>H1B5W6</td>\n",
       "      <td>CA</td>\n",
       "      <td>Gary Dagostino</td>\n",
       "      <td>135046.0</td>\n",
       "      <td>514/798-6092</td>\n",
       "      <td>8481 Place Marien, Montreal, PQ, H1B5W6, Canada</td>\n",
       "      <td>(City of Montreal, Canada, (45.549556, -73.602...</td>\n",
       "      <td>8481 Place Marien, Montreal, PQ, H1B5W6, Canada</td>\n",
       "      <td>None</td>\n",
       "    </tr>\n",
       "    <tr>\n",
       "      <th>3</th>\n",
       "      <td>11\\01</td>\n",
       "      <td>4143</td>\n",
       "      <td>Canada</td>\n",
       "      <td>Eastern Canada</td>\n",
       "      <td>NaN</td>\n",
       "      <td>YULRT</td>\n",
       "      <td>Ramp</td>\n",
       "      <td>645 Lepine Ave.</td>\n",
       "      <td>Dorval</td>\n",
       "      <td>PQ</td>\n",
       "      <td>H9P2R2</td>\n",
       "      <td>CA</td>\n",
       "      <td>NaN</td>\n",
       "      <td>NaN</td>\n",
       "      <td>NaN</td>\n",
       "      <td>645 Lepine Ave., Dorval, PQ, H9P2R2, Canada</td>\n",
       "      <td>(Dorval-Lodge, Quebec, Canada, (47.447798, -77...</td>\n",
       "      <td>645 Lepine Ave., Dorval, PQ, H9P2R2, Canada</td>\n",
       "      <td>None</td>\n",
       "    </tr>\n",
       "    <tr>\n",
       "      <th>4</th>\n",
       "      <td>11\\01</td>\n",
       "      <td>4363</td>\n",
       "      <td>Canada</td>\n",
       "      <td>Eastern Canada</td>\n",
       "      <td>NaN</td>\n",
       "      <td>YHZA</td>\n",
       "      <td>Station</td>\n",
       "      <td>20 Payzant Ave</td>\n",
       "      <td>Dartmouth</td>\n",
       "      <td>NS</td>\n",
       "      <td>B3B1Z6</td>\n",
       "      <td>CA</td>\n",
       "      <td>Michael Neumann</td>\n",
       "      <td>449602.0</td>\n",
       "      <td>9024687169 EXT 232</td>\n",
       "      <td>20 Payzant Ave, Dartmouth, NS, B3B1Z6, Canada</td>\n",
       "      <td>(Urban Community Dartmouth, Halifax, Nova Scot...</td>\n",
       "      <td>20 Payzant Ave, Dartmouth, NS, B3B1Z6, Canada</td>\n",
       "      <td>None</td>\n",
       "    </tr>\n",
       "  </tbody>\n",
       "</table>\n",
       "</div>"
      ],
      "text/plain": [
       "  Reg\\Dist  LocNum  Region        District Market  Alpha Facility  \\\n",
       "0    11\\01     580  Canada  Eastern Canada    NaN   YMXA  Station   \n",
       "1    11\\01     823  Canada  Eastern Canada    NaN   YOWA  Station   \n",
       "2    11\\01    3988  Canada  Eastern Canada    NaN   YUXA  Station   \n",
       "3    11\\01    4143  Canada  Eastern Canada    NaN  YULRT     Ramp   \n",
       "4    11\\01    4363  Canada  Eastern Canada    NaN   YHZA  Station   \n",
       "\n",
       "                      Address       City State     Zip Country  \\\n",
       "0  12005 Raymonde-De-La-Roche    Mirabel    PQ  J7N1H2      CA   \n",
       "1       130 Thad Johnson Road     Ottawa    ON  K1V0X1      CA   \n",
       "2           8481 Place Marien   Montreal    PQ  H1B5W6      CA   \n",
       "3             645 Lepine Ave.     Dorval    PQ  H9P2R2      CA   \n",
       "4              20 Payzant Ave  Dartmouth    NS  B3B1Z6      CA   \n",
       "\n",
       "         Management     EmpID           Telephone  \\\n",
       "0  Melanie McArthur  435890.0        514/798-5994   \n",
       "1       Greg Carter  156852.0        613/690-1300   \n",
       "2    Gary Dagostino  135046.0        514/798-6092   \n",
       "3               NaN       NaN                 NaN   \n",
       "4   Michael Neumann  449602.0  9024687169 EXT 232   \n",
       "\n",
       "                                            Geocoder  \\\n",
       "0  12005 Raymonde-De-La-Roche, Mirabel, PQ, J7N1H...   \n",
       "1  130 Thad Johnson Road, Ottawa, ON, K1V0X1, Canada   \n",
       "2    8481 Place Marien, Montreal, PQ, H1B5W6, Canada   \n",
       "3        645 Lepine Ave., Dorval, PQ, H9P2R2, Canada   \n",
       "4      20 Payzant Ave, Dartmouth, NS, B3B1Z6, Canada   \n",
       "\n",
       "                                         Coordinates  \\\n",
       "0  (Mirabel, Quebec, Canada, (45.680658, -74.0245...   \n",
       "1          (Ottawa, Canada, (45.401795, -75.699583))   \n",
       "2  (City of Montreal, Canada, (45.549556, -73.602...   \n",
       "3  (Dorval-Lodge, Quebec, Canada, (47.447798, -77...   \n",
       "4  (Urban Community Dartmouth, Halifax, Nova Scot...   \n",
       "\n",
       "                                     Geocoder_Photon Coordinates_Photon  \n",
       "0  12005 Raymonde-De-La-Roche, Mirabel, PQ, J7N1H...               None  \n",
       "1  130 Thad Johnson Road, Ottawa, ON, K1V0X1, Canada               None  \n",
       "2    8481 Place Marien, Montreal, PQ, H1B5W6, Canada               None  \n",
       "3        645 Lepine Ave., Dorval, PQ, H9P2R2, Canada               None  \n",
       "4      20 Payzant Ave, Dartmouth, NS, B3B1Z6, Canada               None  "
      ]
     },
     "execution_count": 59,
     "metadata": {},
     "output_type": "execute_result"
    }
   ],
   "source": [
    "df.head()"
   ]
  },
  {
   "cell_type": "code",
   "execution_count": 86,
   "metadata": {},
   "outputs": [
    {
     "data": {
      "text/plain": [
       "45.680658"
      ]
     },
     "execution_count": 86,
     "metadata": {},
     "output_type": "execute_result"
    }
   ],
   "source": [
    "df.Coordinates[0].latitude"
   ]
  },
  {
   "cell_type": "code",
   "execution_count": 54,
   "metadata": {
    "collapsed": true
   },
   "outputs": [],
   "source": [
    "df[\"Geocoder_Photon\"] =  df[\"Address\"]+\", \"+df[\"City\"]+\", \"+df[\"State\"]+\", \"+df[\"Zip\"]+\", Canada\""
   ]
  },
  {
   "cell_type": "code",
   "execution_count": 57,
   "metadata": {},
   "outputs": [],
   "source": [
    "df[\"Coordinates_Photon\"] = df[\"Geocoder_Photon\"].apply(nom.geocode)"
   ]
  },
  {
   "cell_type": "code",
   "execution_count": 58,
   "metadata": {},
   "outputs": [
    {
     "data": {
      "text/plain": [
       "0                                                  None\n",
       "1                                                  None\n",
       "2                                                  None\n",
       "3                                                  None\n",
       "4                                                  None\n",
       "5                                                  None\n",
       "6                                                  None\n",
       "7                                                  None\n",
       "8                                                  None\n",
       "9                                                  None\n",
       "10                                                 None\n",
       "11                                                 None\n",
       "12                                                 None\n",
       "13                                                 None\n",
       "14                                                 None\n",
       "15                                                 None\n",
       "16                                                 None\n",
       "17                                                 None\n",
       "18                                                 None\n",
       "19                                                 None\n",
       "20                                                 None\n",
       "21                                                 None\n",
       "22                                                 None\n",
       "23                                                 None\n",
       "24                                                 None\n",
       "25                                                 None\n",
       "26                                                 None\n",
       "27                                                 None\n",
       "28                                                 None\n",
       "29                                                 None\n",
       "                            ...                        \n",
       "49                                                 None\n",
       "50                                                 None\n",
       "51                                                 None\n",
       "52                                                 None\n",
       "53                                                 None\n",
       "54                                                 None\n",
       "55                                                 None\n",
       "56                                                 None\n",
       "57                                                 None\n",
       "58                                                 None\n",
       "59                                                 None\n",
       "60                                                 None\n",
       "61                                                 None\n",
       "62                                                 None\n",
       "63                                                 None\n",
       "64                                                 None\n",
       "65                                                 None\n",
       "66                                                 None\n",
       "67                                                 None\n",
       "68                                                 None\n",
       "69                                                 None\n",
       "70                                                 None\n",
       "71                                                 None\n",
       "72                                                 None\n",
       "73    (97, Binnington Court, K7M 8N6, Binnington Cou...\n",
       "74    (175, Lahr Drive, K8N 4V8, Lahr Drive, Bellevi...\n",
       "75                                                 None\n",
       "76                                                 None\n",
       "77                                                 None\n",
       "78                                                 None\n",
       "Name: Coordinates_Photon, Length: 79, dtype: object"
      ]
     },
     "execution_count": 58,
     "metadata": {},
     "output_type": "execute_result"
    }
   ],
   "source": [
    "#df[\"Geocoder\"]\n",
    "df[\"Coordinates_Photon\"]"
   ]
  },
  {
   "cell_type": "code",
   "execution_count": 68,
   "metadata": {},
   "outputs": [],
   "source": [
    "df_test1 = df[df['Coordinates'].notnull()==True]"
   ]
  },
  {
   "cell_type": "code",
   "execution_count": 69,
   "metadata": {
    "collapsed": true
   },
   "outputs": [],
   "source": [
    "df_test2 = df_test1[df_test1['Coordinates_Photon'].notnull()==True]"
   ]
  },
  {
   "cell_type": "code",
   "execution_count": 73,
   "metadata": {},
   "outputs": [],
   "source": [
    "df_temp1 = df_test2[['Coordinates','Coordinates_Photon']]"
   ]
  },
  {
   "cell_type": "code",
   "execution_count": 75,
   "metadata": {},
   "outputs": [],
   "source": [
    "df_temp1.to_excel(\"Coord.xlsx\")"
   ]
  },
  {
   "cell_type": "code",
   "execution_count": 92,
   "metadata": {},
   "outputs": [],
   "source": [
    "df[\"Longitude_Photon\"] = df[\"Coordinates_Photon\"].apply(lambda x: x.longitude if x != None else None)"
   ]
  },
  {
   "cell_type": "code",
   "execution_count": 94,
   "metadata": {
    "collapsed": true
   },
   "outputs": [],
   "source": [
    "df[\"Latitude_Photon\"] = df[\"Coordinates_Photon\"].apply(lambda x: x.latitude if x != None else None)"
   ]
  },
  {
   "cell_type": "code",
   "execution_count": 96,
   "metadata": {},
   "outputs": [],
   "source": [
    "df.to_excel(\"Coord.xlsx\")"
   ]
  },
  {
   "cell_type": "code",
   "execution_count": null,
   "metadata": {
    "collapsed": true
   },
   "outputs": [],
   "source": []
  }
 ],
 "metadata": {
  "kernelspec": {
   "display_name": "Python 3",
   "language": "python",
   "name": "python3"
  },
  "language_info": {
   "codemirror_mode": {
    "name": "ipython",
    "version": 3
   },
   "file_extension": ".py",
   "mimetype": "text/x-python",
   "name": "python",
   "nbconvert_exporter": "python",
   "pygments_lexer": "ipython3",
   "version": "3.6.1"
  }
 },
 "nbformat": 4,
 "nbformat_minor": 2
}
